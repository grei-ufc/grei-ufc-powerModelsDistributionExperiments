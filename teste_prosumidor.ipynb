{
 "cells": [
  {
   "cell_type": "code",
   "execution_count": 1,
   "id": "7c99a96f",
   "metadata": {
    "scrolled": false
   },
   "outputs": [
    {
     "name": "stderr",
     "output_type": "stream",
     "text": [
      "\u001b[32m\u001b[1m  Activating\u001b[22m\u001b[39m project at `~/Documents/mestrado/powerModelsExemplos`\n",
      "\u001b[32m\u001b[1m   Resolving\u001b[22m\u001b[39m package versions...\n",
      "\u001b[32m\u001b[1m  No Changes\u001b[22m\u001b[39m to `~/Documents/mestrado/powerModelsExemplos/Project.toml`\n",
      "\u001b[32m\u001b[1m  No Changes\u001b[22m\u001b[39m to `~/Documents/mestrado/powerModelsExemplos/Manifest.toml`\n"
     ]
    }
   ],
   "source": [
    "using Pkg\n",
    "Pkg.activate(\".\")\n",
    "caminho_do_pacote = \"/home/luizfreire/Documents/mestrado/powerModelsExemplos/PowerModelsDistributionDev\"\n",
    "Pkg.develop(PackageSpec(path=caminho_do_pacote))"
   ]
  },
  {
   "cell_type": "code",
   "execution_count": 2,
   "id": "fd8c6e15",
   "metadata": {
    "scrolled": false
   },
   "outputs": [
    {
     "name": "stderr",
     "output_type": "stream",
     "text": [
      "\u001b[32m\u001b[1mPrecompiling\u001b[22m\u001b[39m PowerModelsDistribution\n",
      "\u001b[32m  ✓ \u001b[39mPowerModelsDistribution\n",
      "  1 dependency successfully precompiled in 11 seconds. 71 already precompiled.\n"
     ]
    },
    {
     "data": {
      "text/plain": [
       "MathOptInterface.OptimizerWithAttributes(Ipopt.Optimizer, Pair{MathOptInterface.AbstractOptimizerAttribute, Any}[MathOptInterface.RawOptimizerAttribute(\"max_iter\") => 50000, MathOptInterface.RawOptimizerAttribute(\"tol\") => 1.0e-8])"
      ]
     },
     "execution_count": 2,
     "metadata": {},
     "output_type": "execute_result"
    }
   ],
   "source": [
    "using PowerModelsDistribution\n",
    "using Ipopt\n",
    "using JuMP\n",
    "using PowerPlots\n",
    "using Plots\n",
    "\n",
    "include(\"utils/load_data.jl\")\n",
    "results_path = \"results/2025-04-21_solar_carga_armazenamento_opf_cost/\"\n",
    "\n",
    "solver = optimizer_with_attributes(\n",
    "    Ipopt.Optimizer,\n",
    "    \"max_iter\" => 50000,\n",
    "    \"tol\" => 1e-8)\n"
   ]
  },
  {
   "cell_type": "code",
   "execution_count": 3,
   "id": "d9f2ea37",
   "metadata": {
    "scrolled": false
   },
   "outputs": [
    {
     "name": "stderr",
     "output_type": "stream",
     "text": [
      "\u001b[36m\u001b[1m[ \u001b[22m\u001b[39m\u001b[36m\u001b[1mPowerModelsDistribution | Info ] : \u001b[22m\u001b[39mCircuit has been reset with the 'clear' on line 1 in 'case_tabulation.dss'\n",
      "\u001b[36m\u001b[1m[ \u001b[22m\u001b[39m\u001b[36m\u001b[1mPowerModelsDistribution | Info ] : \u001b[22m\u001b[39mCommand 'solve' on line 5 in 'case_tabulation.dss' is not supported, skipping.\n",
      "\u001b[36m\u001b[1m[ \u001b[22m\u001b[39m\u001b[36m\u001b[1mPowerModelsDistribution | Info ] : \u001b[22m\u001b[39mbasemva=100 is the default value, you may want to adjust sbase_default for better convergence\n"
     ]
    },
    {
     "data": {
      "text/plain": [
       "Dict{String, Any} with 16 entries:\n",
       "  \"pg\"                   => [2500, 2500, 2500, 0]\n",
       "  \"connections\"          => [1, 2, 3, 4]\n",
       "  \"energy\"               => 20000\n",
       "  \"bus\"                  => \"bus_1\"\n",
       "  \"charge_ub\"            => 7000\n",
       "  \"configuration\"        => WYE\n",
       "  \"energy_ub\"            => 100000\n",
       "  \"status\"               => ENABLED\n",
       "  \"source_id\"            => \"prosumer.prosumer_1\"\n",
       "  \"charge_efficiency\"    => 100\n",
       "  \"discharge_ub\"         => 7000\n",
       "  \"ps\"                   => [1000, 1000, 1000, 0]\n",
       "  \"cost\"                 => 1\n",
       "  \"control_mode\"         => FREQUENCYDROOP\n",
       "  \"discharge_efficiency\" => 100\n",
       "  \"pd\"                   => [1800, 1800, 1800, 0]"
      ]
     },
     "execution_count": 3,
     "metadata": {},
     "output_type": "execute_result"
    }
   ],
   "source": [
    "eng_model = PowerModelsDistribution.parse_file(\"PowerModelsDistributionDev/test/data/opendss/case_tabulation.dss\")\n",
    "    \n",
    "                        \n",
    "add_prosumer!(eng_model,\n",
    "              \"prosumer_1\",\n",
    "              \"bus_1\",\n",
    "              [1, 2, 3, 4];\n",
    "              configuration=WYE,\n",
    "              pg=[2500, 2500, 2500, 0],\n",
    "              pd=[1800, 1800, 1800, 0],\n",
    "              ps=[1000, 1000, 1000, 0],\n",
    "              energy=20000,\n",
    "              energy_ub=100000,\n",
    "              charge_ub=7000,\n",
    "              discharge_ub=7000,\n",
    "              charge_efficiency=100,\n",
    "              discharge_efficiency=100,\n",
    "              cost=1)\n"
   ]
  },
  {
   "cell_type": "code",
   "execution_count": 5,
   "id": "51bc8598",
   "metadata": {
    "scrolled": false
   },
   "outputs": [
    {
     "name": "stderr",
     "output_type": "stream",
     "text": [
      "\u001b[36m\u001b[1m[ \u001b[22m\u001b[39m\u001b[36m\u001b[1mPowerModelsDistribution | Info ] : \u001b[22m\u001b[39mno active generators found at bus 1, updating to bus type from 2 to 1\n"
     ]
    },
    {
     "name": "stdout",
     "output_type": "stream",
     "text": [
      "\n",
      "******************************************************************************\n",
      "This program contains Ipopt, a library for large-scale nonlinear optimization.\n",
      " Ipopt is released as open source code under the Eclipse Public License (EPL).\n",
      "         For more information visit https://github.com/coin-or/Ipopt\n",
      "******************************************************************************\n",
      "\n",
      "This is Ipopt version 3.14.17, running with linear solver MUMPS 5.7.3.\n",
      "\n",
      "Number of nonzeros in equality constraint Jacobian...:      315\n",
      "Number of nonzeros in inequality constraint Jacobian.:       42\n",
      "Number of nonzeros in Lagrangian Hessian.............:      750\n",
      "\n",
      "Total number of variables............................:       53\n",
      "                     variables with only lower bounds:        6\n",
      "                variables with lower and upper bounds:        8\n",
      "                     variables with only upper bounds:        0\n",
      "Total number of equality constraints.................:       45\n",
      "Total number of inequality constraints...............:       18\n",
      "        inequality constraints with only lower bounds:        6\n",
      "   inequality constraints with lower and upper bounds:        0\n",
      "        inequality constraints with only upper bounds:       12\n",
      "\n",
      "iter    objective    inf_pr   inf_du lg(mu)  ||d||  lg(rg) alpha_du alpha_pr  ls\n",
      "   0  3.0000000e-02 1.00e-02 1.00e+00  -1.0 0.00e+00    -  0.00e+00 0.00e+00   0\n",
      "   1 -1.0651427e-01 4.50e-05 1.96e-01  -1.7 3.50e-02    -  8.04e-01 1.00e+00h  1\n",
      "   2 -2.6919825e-01 2.01e-06 1.28e-03  -1.7 4.64e-02    -  1.00e+00 9.86e-01H  1\n",
      "   3 -2.7773802e-01 5.49e-09 6.71e-03  -3.8 7.74e-03    -  9.49e-01 1.00e+00h  1\n",
      "   4 -2.7939937e-01 7.19e-10 7.35e-09  -3.8 1.52e-03    -  1.00e+00 1.00e+00f  1\n",
      "   5 -2.7999214e-01 1.73e-09 2.86e-07  -5.7 1.49e-04    -  1.00e+00 1.00e+00f  1\n",
      "   6 -2.8000003e-01 5.43e-13 4.72e-11  -8.6 2.00e-06    -  1.00e+00 1.00e+00h  1\n",
      "\n",
      "Number of Iterations....: 6\n",
      "\n",
      "                                   (scaled)                 (unscaled)\n",
      "Objective...............:  -2.8000002990353257e-01   -2.8000002990353257e-01\n",
      "Dual infeasibility......:   4.7205085988628701e-11    4.7205085988628701e-11\n",
      "Constraint violation....:   3.4314218133602026e-13    5.4276028116362340e-13\n",
      "Variable bound violation:   7.4778349484772022e-09    7.4778349484772022e-09\n",
      "Complementarity.........:   2.5299723320738724e-09    2.5299723320738724e-09\n",
      "Overall NLP error.......:   2.5299723320738724e-09    2.5299723320738724e-09\n",
      "\n",
      "\n",
      "Number of objective function evaluations             = 8\n",
      "Number of objective gradient evaluations             = 7\n",
      "Number of equality constraint evaluations            = 8\n",
      "Number of inequality constraint evaluations          = 8\n",
      "Number of equality constraint Jacobian evaluations   = 7\n",
      "Number of inequality constraint Jacobian evaluations = 7\n",
      "Number of Lagrangian Hessian evaluations             = 6\n",
      "Total seconds in IPOPT                               = 4.175\n",
      "\n",
      "EXIT: Optimal Solution Found.\n"
     ]
    },
    {
     "data": {
      "text/plain": [
       "Dict{String, Any} with 8 entries:\n",
       "  \"solve_time\"         => 5.2369\n",
       "  \"optimizer\"          => \"Ipopt\"\n",
       "  \"termination_status\" => LOCALLY_SOLVED\n",
       "  \"dual_status\"        => FEASIBLE_POINT\n",
       "  \"primal_status\"      => FEASIBLE_POINT\n",
       "  \"objective\"          => -0.28\n",
       "  \"solution\"           => Dict{String, Any}(\"voltage_source\"=>Dict{String, Any}…\n",
       "  \"objective_lb\"       => -Inf"
      ]
     },
     "execution_count": 5,
     "metadata": {},
     "output_type": "execute_result"
    }
   ],
   "source": [
    "result = solve_mc_model(eng_model, ACPUPowerModel, solver, build_mc_tes_opf)"
   ]
  },
  {
   "cell_type": "code",
   "execution_count": 6,
   "id": "b840c3a4",
   "metadata": {},
   "outputs": [
    {
     "name": "stderr",
     "output_type": "stream",
     "text": [
      "\u001b[36m\u001b[1m[ \u001b[22m\u001b[39m\u001b[36m\u001b[1mPowerModelsDistribution | Info ] : \u001b[22m\u001b[39mConverting ENGINEERING data model to MATHEMATICAL first to build JuMP model\n",
      "\u001b[36m\u001b[1m[ \u001b[22m\u001b[39m\u001b[36m\u001b[1mPowerModelsDistribution | Info ] : \u001b[22m\u001b[39mno active generators found at bus 1, updating to bus type from 2 to 1\n"
     ]
    },
    {
     "data": {
      "text/plain": [
       "ACPUPowerModel(A JuMP Model\n",
       "├ solver: none\n",
       "├ objective_sense: MIN_SENSE\n",
       "│ └ objective_function_type: AffExpr\n",
       "├ num_variables: 56\n",
       "├ num_constraints: 91\n",
       "│ ├ NonlinearExpr in MOI.EqualTo{Float64}: 24\n",
       "│ ├ AffExpr in MOI.EqualTo{Float64}: 3\n",
       "│ ├ AffExpr in MOI.GreaterThan{Float64}: 6\n",
       "│ ├ AffExpr in MOI.LessThan{Float64}: 6\n",
       "│ ├ QuadExpr in MOI.EqualTo{Float64}: 18\n",
       "│ ├ QuadExpr in MOI.LessThan{Float64}: 6\n",
       "│ ├ VariableRef in MOI.GreaterThan{Float64}: 17\n",
       "│ └ VariableRef in MOI.LessThan{Float64}: 11\n",
       "└ Names registered in the model: none, Dict{String, Any}(\"is_kron_reduced\" => true, \"conductor_ids\" => [1, 2, 3], \"time_elapsed\" => 1.0, \"bus\" => Dict{String, Any}(\"1\" => Dict{String, Any}(\"vm_pair_lb\" => Tuple{Any, Any, Real}[], \"grounded\" => Bool[0, 0, 0], \"vm_pair_ub\" => Tuple{Any, Any, Real}[], \"bus_i\" => 1, \"name\" => \"bus_1\", \"bus_type\" => 1, \"terminals\" => [1, 2, 3], \"vmax\" => [Inf, Inf, Inf], \"vbase\" => 66.39528095680697, \"source_id\" => \"bus.bus_1\"…), \"2\" => Dict{String, Any}(\"vm_pair_lb\" => Tuple{Any, Any, Real}[], \"grounded\" => Bool[0, 0, 0], \"vm_pair_ub\" => Tuple{Any, Any, Real}[], \"bus_i\" => 2, \"name\" => \"sourcebus\", \"bus_type\" => 1, \"terminals\" => [1, 2, 3], \"vmax\" => [Inf, Inf, Inf], \"vbase\" => 66.39528095680697, \"source_id\" => \"bus.sourcebus\"…), \"3\" => Dict{String, Any}(\"vm_pair_lb\" => Tuple{Any, Any, Real}[], \"source_id\" => \"voltage_source.source\", \"grounded\" => Bool[0, 0, 0], \"vmin\" => [1.0, 1.0, 1.0], \"vm_pair_ub\" => Tuple{Any, Any, Real}[], \"bus_i\" => 3, \"index\" => 3, \"name\" => \"_virtual_bus.voltage_source.source\", \"bus_type\" => 3, \"va\" => [0.0, -2.0943951023931953, 2.0943951023931957]…)), \"name\" => \"test\", \"map\" => Dict{String, Any}[Dict(\"unmap_function\" => \"_map_math2eng_root!\"), Dict(\"to\" => \"bus.1\", \"from\" => \"bus_1\", \"unmap_function\" => \"_map_math2eng_bus!\"), Dict(\"to\" => \"bus.2\", \"from\" => \"sourcebus\", \"unmap_function\" => \"_map_math2eng_bus!\"), Dict(\"to\" => \"branch.1\", \"from\" => \"line_1\", \"unmap_function\" => \"_map_math2eng_line!\"), Dict(\"to\" => \"load.1\", \"from\" => \"load_1\", \"unmap_function\" => \"_map_math2eng_load!\"), Dict(\"to\" => [\"gen.1\", \"bus.3\", \"branch.2\"], \"from\" => \"source\", \"unmap_function\" => \"_map_math2eng_voltage_source!\"), Dict(\"to\" => \"prosumer.1\", \"from\" => \"prosumer_1\", \"unmap_function\" => \"_map_math2eng_prosumer!\")], \"settings\" => Dict{String, Any}(\"sbase_default\" => 100000.0, \"vbases_default\" => Dict{String, Real}(\"2\" => 66.39528095680697), \"voltage_scale_factor\" => 1000.0, \"sbase\" => 100000.0, \"power_scale_factor\" => 1000.0, \"base_frequency\" => 60.0), \"gen\" => Dict{String, Any}(\"1\" => Dict{String, Any}(\"pg\" => [0.0, 0.0, 0.0], \"model\" => 2, \"connections\" => [1, 2, 3], \"shutdown\" => 0.0, \"startup\" => 0.0, \"configuration\" => WYE, \"name\" => \"_virtual_gen.voltage_source.source\", \"qg\" => [0.0, 0.0, 0.0], \"gen_bus\" => 3, \"pmax\" => [Inf, Inf, Inf]…)), \"branch\" => Dict{String, Any}(\"1\" => Dict{String, Any}(\"br_r\" => [0.0022260869565217385 0.0009103969754253304 0.0009103969754253304; 0.0009103969754253304 0.0022260869565217385 0.0009103969754253304; 0.0009103969754253304 0.0009103969754253304 0.0022260869565217385], \"rate_a\" => [Inf, Inf, Inf], \"f_connections\" => [1, 2, 3], \"rate_b\" => [Inf, Inf, Inf], \"name\" => \"line_1\", \"br_x\" => [0.004883931947069942 0.0021482041587901693 0.0021482041587901693; 0.0021482041587901693 0.004883931947069942 0.0021482041587901693; 0.0021482041587901693 0.0021482041587901693 0.004883931947069942], \"rate_c\" => [Inf, Inf, Inf], \"g_to\" => [0.0 0.0 0.0; 0.0 0.0 0.0; 0.0 0.0 0.0], \"c_rating_a\" => [0.39837168574084186, 0.39837168574084186, 0.39837168574084186], \"vbase\" => 66.39528095680697…), \"2\" => Dict{String, Any}(\"source_id\" => \"voltage_source.source\", \"t_connections\" => [1, 2, 3], \"f_bus\" => 3, \"br_r\" => [0.039319470699432875 0.0018903591682419652 0.0018903591682419652; 0.0018903591682419652 0.039319470699432875 0.0018903591682419652; 0.0018903591682419652 0.0018903591682419652 0.039319470699432875], \"b_fr\" => [0.0 0.0 0.0; 0.0 0.0 0.0; 0.0 0.0 0.0], \"br_status\" => 1, \"t_bus\" => 2, \"b_to\" => [0.0 0.0 0.0; 0.0 0.0 0.0; 0.0 0.0 0.0], \"f_connections\" => [1, 2, 3], \"index\" => 2…)), \"storage\" => Dict{String, Any}()…), Dict{String, Any}(), Dict{String, Any}(), Dict{Symbol, Any}(:it => Dict{Symbol, Any}(:pmd => Dict{Symbol, Any}(:nw => Dict{Int64, Any}(0 => Dict{Symbol, Any}(:buspairs => Dict{NTuple{4, Int64}, Dict{String, Real}}((2, 1, 3, 3) => Dict(\"vm_to_min\" => Inf, \"vm_fr_min\" => 0.0, \"angmin\" => -1.0471975511965976, \"branch\" => 1, \"angmax\" => 1.0471975511965976, \"rate_a\" => Inf, \"c_rating_a\" => 0.39837168574084186, \"vm_to_max\" => Inf, \"vm_fr_max\" => Inf), (2, 1, 2, 2) => Dict(\"vm_to_min\" => Inf, \"vm_fr_min\" => 0.0, \"angmin\" => -1.0471975511965976, \"branch\" => 1, \"angmax\" => 1.0471975511965976, \"rate_a\" => Inf, \"c_rating_a\" => 0.39837168574084186, \"vm_to_max\" => Inf, \"vm_fr_max\" => Inf), (3, 2, 1, 1) => Dict(\"vm_to_min\" => Inf, \"vm_fr_min\" => 1.0, \"angmin\" => -0.17453292519943295, \"branch\" => 2, \"angmax\" => 0.17453292519943295, \"c_rating_a\" => Inf, \"vm_to_max\" => Inf, \"vm_fr_max\" => 1.0), (3, 2, 3, 3) => Dict(\"vm_to_min\" => Inf, \"vm_fr_min\" => 1.0, \"angmin\" => -0.17453292519943295, \"branch\" => 2, \"angmax\" => 0.17453292519943295, \"c_rating_a\" => Inf, \"vm_to_max\" => Inf, \"vm_fr_max\" => 1.0), (3, 2, 2, 2) => Dict(\"vm_to_min\" => Inf, \"vm_fr_min\" => 1.0, \"angmin\" => -0.17453292519943295, \"branch\" => 2, \"angmax\" => 0.17453292519943295, \"c_rating_a\" => Inf, \"vm_to_max\" => Inf, \"vm_fr_max\" => 1.0), (2, 1, 1, 1) => Dict(\"vm_to_min\" => Inf, \"vm_fr_min\" => 0.0, \"angmin\" => -1.0471975511965976, \"branch\" => 1, \"angmax\" => 1.0471975511965976, \"rate_a\" => Inf, \"c_rating_a\" => 0.39837168574084186, \"vm_to_max\" => Inf, \"vm_fr_max\" => Inf)), :bus_conns_gen => Dict(2 => [], 3 => [(1, [1, 2, 3])], 1 => []), :gen => Dict{Int64, Any}(1 => Dict{String, Any}(\"pg\" => [0.0, 0.0, 0.0], \"model\" => 2, \"connections\" => [1, 2, 3], \"shutdown\" => 0.0, \"startup\" => 0.0, \"configuration\" => WYE, \"name\" => \"_virtual_gen.voltage_source.source\", \"qg\" => [0.0, 0.0, 0.0], \"gen_bus\" => 3, \"pmax\" => [Inf, Inf, Inf]…)), :bus_prosumers => Dict(2 => [], 3 => [], 1 => [1]), :switch_dispatchable => Dict{Int64, Any}(), :prosumer_dispatchable => Dict{Int64, Any}(), :load => Dict{Int64, Any}(1 => Dict{String, Any}(\"model\" => POWER, \"connections\" => [1, 2, 3], \"configuration\" => WYE, \"name\" => \"load_1\", \"status\" => 1, \"qd\" => [1.0000000000000001e-7, 1.0000000000000001e-7, 1.0000000000000001e-7], \"vbase\" => 66.39528095680697, \"vnom_kv\" => 0.10843478260869564, \"source_id\" => \"load.load_1\", \"load_bus\" => 1…)), :arcs_branch_to => [(2, 2, 3), (1, 1, 2)], :is_projected => true, :bus_arcs_transformer => Dict(2 => [], 3 => [], 1 => [])…)), :map => Dict{String, Any}[Dict(\"unmap_function\" => \"_map_math2eng_root!\"), Dict(\"to\" => \"bus.1\", \"from\" => \"bus_1\", \"unmap_function\" => \"_map_math2eng_bus!\"), Dict(\"to\" => \"bus.2\", \"from\" => \"sourcebus\", \"unmap_function\" => \"_map_math2eng_bus!\"), Dict(\"to\" => \"branch.1\", \"from\" => \"line_1\", \"unmap_function\" => \"_map_math2eng_line!\"), Dict(\"to\" => \"load.1\", \"from\" => \"load_1\", \"unmap_function\" => \"_map_math2eng_load!\"), Dict(\"to\" => [\"gen.1\", \"bus.3\", \"branch.2\"], \"from\" => \"source\", \"unmap_function\" => \"_map_math2eng_voltage_source!\"), Dict(\"to\" => \"prosumer.1\", \"from\" => \"prosumer_1\", \"unmap_function\" => \"_map_math2eng_prosumer!\")], :name => \"test\", :data_model => MATHEMATICAL, :bus_lookup => Dict{Any, Int64}(\"bus_1\" => 1, \"sourcebus\" => 2)))), Dict{Symbol, Any}(:dep => Dict{Symbol, Any}(), :it => Dict{Symbol, Any}(:pmd => Dict{Symbol, Any}(:nw => Dict{Int64, Any}(0 => Dict{Symbol, Any}(:p => Dict{Tuple{Int64, Int64, Int64}, JuMP.Containers.DenseAxisArray{VariableRef, 1, Tuple{Vector{Int64}}, Tuple{JuMP.Containers._AxisLookup{Dict{Int64, Int64}}}}}((1, 2, 1) => 1-dimensional DenseAxisArray{VariableRef,1,...} with index sets:\n",
       "    Dimension 1, [1, 2, 3]\n",
       "And data, a 3-element Vector{VariableRef}:\n",
       " 0_p_(1, 2, 1)[1]\n",
       " 0_p_(1, 2, 1)[2]\n",
       " 0_p_(1, 2, 1)[3], (2, 3, 2) => 1-dimensional DenseAxisArray{VariableRef,1,...} with index sets:\n",
       "    Dimension 1, [1, 2, 3]\n",
       "And data, a 3-element Vector{VariableRef}:\n",
       " 0_p_(2, 3, 2)[1]\n",
       " 0_p_(2, 3, 2)[2]\n",
       " 0_p_(2, 3, 2)[3], (1, 1, 2) => 1-dimensional DenseAxisArray{VariableRef,1,...} with index sets:\n",
       "    Dimension 1, [1, 2, 3]\n",
       "And data, a 3-element Vector{VariableRef}:\n",
       " 0_p_(1, 1, 2)[1]\n",
       " 0_p_(1, 1, 2)[2]\n",
       " 0_p_(1, 1, 2)[3], (2, 2, 3) => 1-dimensional DenseAxisArray{VariableRef,1,...} with index sets:\n",
       "    Dimension 1, [1, 2, 3]\n",
       "And data, a 3-element Vector{VariableRef}:\n",
       " 0_p_(2, 2, 3)[1]\n",
       " 0_p_(2, 2, 3)[2]\n",
       " 0_p_(2, 2, 3)[3]), :se => 1-dimensional DenseAxisArray{Any,1,...} with index sets:\n",
       "    Dimension 1, Int64[]\n",
       "And data, a 0-element Vector{Any}, :qsw => Dict{Any, Any}(), :ps => Dict{Int64, JuMP.Containers.DenseAxisArray{VariableRef, 1, Tuple{Vector{Int64}}, Tuple{JuMP.Containers._AxisLookup{Dict{Int64, Int64}}}}}(1 => 1-dimensional DenseAxisArray{VariableRef,1,...} with index sets:\n",
       "    Dimension 1, [1, 2, 3, 4]\n",
       "And data, a 4-element Vector{VariableRef}:\n",
       " 0_ps_1[1]\n",
       " 0_ps_1[2]\n",
       " 0_ps_1[3]\n",
       " 0_ps_1[4]), :qs => Dict{Int64, JuMP.Containers.DenseAxisArray{VariableRef, 1, Tuple{Vector{Int64}}, Tuple{JuMP.Containers._AxisLookup{Dict{Int64, Int64}}}}}(1 => 1-dimensional DenseAxisArray{VariableRef,1,...} with index sets:\n",
       "    Dimension 1, [1, 2, 3, 4]\n",
       "And data, a 4-element Vector{VariableRef}:\n",
       " 0_qs_1[1]\n",
       " 0_qs_1[2]\n",
       " 0_qs_1[3]\n",
       " 0_qs_1[4]), :vm => Dict{Int64, JuMP.Containers.DenseAxisArray{VariableRef, 1, Tuple{Vector{Int64}}, Tuple{JuMP.Containers._AxisLookup{Dict{Int64, Int64}}}}}(2 => 1-dimensional DenseAxisArray{VariableRef,1,...} with index sets:\n",
       "    Dimension 1, [1, 2, 3]\n",
       "And data, a 3-element Vector{VariableRef}:\n",
       " 0_vm_2[1]\n",
       " 0_vm_2[2]\n",
       " 0_vm_2[3], 3 => 1-dimensional DenseAxisArray{VariableRef,1,...} with index sets:\n",
       "    Dimension 1, [1, 2, 3]\n",
       "And data, a 3-element Vector{VariableRef}:\n",
       " 0_vm_3[1]\n",
       " 0_vm_3[2]\n",
       " 0_vm_3[3], 1 => 1-dimensional DenseAxisArray{VariableRef,1,...} with index sets:\n",
       "    Dimension 1, [1, 2, 3]\n",
       "And data, a 3-element Vector{VariableRef}:\n",
       " 0_vm_1[1]\n",
       " 0_vm_1[2]\n",
       " 0_vm_1[3]), :qg_bus => Dict{Int64, Any}(1 => 1-dimensional DenseAxisArray{VariableRef,1,...} with index sets:\n",
       "    Dimension 1, [1, 2, 3]\n",
       "And data, a 3-element Vector{VariableRef}:\n",
       " 0_qg_1[1]\n",
       " 0_qg_1[2]\n",
       " 0_qg_1[3]), :sc => 1-dimensional DenseAxisArray{Any,1,...} with index sets:\n",
       "    Dimension 1, Int64[]\n",
       "And data, a 0-element Vector{Any}, :qs_bus => Dict{Int64, Any}(), :qg => Dict{Int64, JuMP.Containers.DenseAxisArray{VariableRef, 1, Tuple{Vector{Int64}}, Tuple{JuMP.Containers._AxisLookup{Dict{Int64, Int64}}}}}(1 => 1-dimensional DenseAxisArray{VariableRef,1,...} with index sets:\n",
       "    Dimension 1, [1, 2, 3]\n",
       "And data, a 3-element Vector{VariableRef}:\n",
       " 0_qg_1[1]\n",
       " 0_qg_1[2]\n",
       " 0_qg_1[3])…))))), Dict{Symbol, Any}(:dep => Dict{Symbol, Any}(), :it => Dict{Symbol, Any}(:pmd => Dict{Symbol, Any}(:nw => Dict{Int64, Any}(0 => Dict{Symbol, Any}(:mu_cm_branch => Dict{Tuple{Int64, Int64, Int64}, Vector{ConstraintRef}}((1, 2, 1) => [-0.15870000000000006 0_vm_2[1]² + 0_p_(1, 2, 1)[1]² + 0_q_(1, 2, 1)[1]² ≤ 0, -0.15870000000000006 0_vm_2[2]² + 0_p_(1, 2, 1)[2]² + 0_q_(1, 2, 1)[2]² ≤ 0, -0.15870000000000006 0_vm_2[3]² + 0_p_(1, 2, 1)[3]² + 0_q_(1, 2, 1)[3]² ≤ 0], (1, 1, 2) => [-0.15870000000000006 0_vm_1[1]² + 0_p_(1, 1, 2)[1]² + 0_q_(1, 1, 2)[1]² ≤ 0, -0.15870000000000006 0_vm_1[2]² + 0_p_(1, 1, 2)[2]² + 0_q_(1, 1, 2)[2]² ≤ 0, -0.15870000000000006 0_vm_1[3]² + 0_p_(1, 1, 2)[3]² + 0_q_(1, 1, 2)[3]² ≤ 0]), :mu_sm_branch => Dict{Tuple{Int64, Int64, Int64}, Vector{ConstraintRef}}(), :lam_kcl_r => Dict{Int64, Array{ConstraintRef}}(2 => [0_p_(1, 2, 1)[1] + 0_p_(2, 2, 3)[1] = 0, 0_p_(1, 2, 1)[2] + 0_p_(2, 2, 3)[2] = 0, 0_p_(1, 2, 1)[3] + 0_p_(2, 2, 3)[3] = 0], 3 => [0_p_(2, 3, 2)[1] - 0_pg_1[1] = 0, 0_p_(2, 3, 2)[2] - 0_pg_1[2] = 0, 0_p_(2, 3, 2)[3] - 0_pg_1[3] = 0], 1 => [0_p_(1, 1, 2)[1] + 0_ps_1[1] = -3.3333333333333335e-7, 0_p_(1, 1, 2)[2] + 0_ps_1[2] = -3.3333333333333335e-7, 0_p_(1, 1, 2)[3] + 0_ps_1[3] = -3.3333333333333335e-7]), :lam_kcl_i => Dict{Int64, Array{ConstraintRef}}(2 => [0_q_(1, 2, 1)[1] + 0_q_(2, 2, 3)[1] = 0, 0_q_(1, 2, 1)[2] + 0_q_(2, 2, 3)[2] = 0, 0_q_(1, 2, 1)[3] + 0_q_(2, 2, 3)[3] = 0], 3 => [0_q_(2, 3, 2)[1] - 0_qg_1[1] = 0, 0_q_(2, 3, 2)[2] - 0_qg_1[2] = 0, 0_q_(2, 3, 2)[3] - 0_qg_1[3] = 0], 1 => [0_q_(1, 1, 2)[1] + 0_qs_1[1] = -1.0000000000000001e-7, 0_q_(1, 1, 2)[2] + 0_qs_1[2] = -1.0000000000000001e-7, 0_q_(1, 1, 2)[3] + 0_qs_1[3] = -1.0000000000000001e-7]), :ohms_yt => Dict{Tuple{Int64, Int64, Int64}, Vector{Vector{<:ConstraintRef}}}((1, 1, 2) => [ConstraintRef[0_p_(1, 1, 2)[1] - ((108.58381585100324 0_vm_1[1]²) + (((-108.58381585100324 0_vm_1[1]*0_vm_2[1]) * cos(-0_va_2[1] + 0_va_1[1])) - ((-228.3148849625167 0_vm_1[1]*0_vm_2[1]) * sin(-0_va_2[1] + 0_va_1[1]))) + ((-34.189354519334024 0_vm_1[1]*0_vm_1[2]) * cos(0_va_1[1] - 0_va_1[2])) + ((68.55484016664941 0_vm_1[1]*0_vm_1[3]) * sin(0_va_1[1] - 0_va_1[3])) + ((-34.18935451933407 0_vm_1[1]*0_vm_1[3]) * cos(0_va_1[1] - 0_va_1[3])) + ((68.55484016664941 0_vm_1[1]*0_vm_1[2]) * sin(0_va_1[1] - 0_va_1[2])) + (((34.18935451933407 0_vm_1[1]*0_vm_2[3]) * cos(-0_va_2[3] + 0_va_1[1])) - ((68.55484515235696 0_vm_1[1]*0_vm_2[3]) * sin(-0_va_2[3] + 0_va_1[1]))) + (((34.189354519334024 0_vm_1[1]*0_vm_2[2]) * cos(-0_va_2[2] + 0_va_1[1])) - ((68.55484515235696 0_vm_1[1]*0_vm_2[2]) * sin(-0_va_2[2] + 0_va_1[1])))) = 0, 0_p_(1, 1, 2)[2] - ((108.58381585100317 0_vm_1[2]²) + (((34.189354519334046 0_vm_1[2]*0_vm_2[1]) * cos(-0_va_2[1] + 0_va_1[2])) - ((68.55484515235696 0_vm_1[2]*0_vm_2[1]) * sin(-0_va_2[1] + 0_va_1[2]))) + ((-34.189354519334046 0_vm_1[2]*0_vm_1[1]) * cos(-0_va_1[1] + 0_va_1[2])) + ((68.55484016664951 0_vm_1[2]*0_vm_1[3]) * sin(0_va_1[2] - 0_va_1[3])) + ((-34.189354519334074 0_vm_1[2]*0_vm_1[3]) * cos(0_va_1[2] - 0_va_1[3])) + ((68.55484016664941 0_vm_1[2]*0_vm_1[1]) * sin(-0_va_1[1] + 0_va_1[2])) + (((34.189354519334074 0_vm_1[2]*0_vm_2[3]) * cos(-0_va_2[3] + 0_va_1[2])) - ((68.55484515235706 0_vm_1[2]*0_vm_2[3]) * sin(-0_va_2[3] + 0_va_1[2]))) + (((-108.58381585100317 0_vm_1[2]*0_vm_2[2]) * cos(-0_va_2[2] + 0_va_1[2])) - ((-228.31488496251677 0_vm_1[2]*0_vm_2[2]) * sin(-0_va_2[2] + 0_va_1[2])))) = 0, 0_p_(1, 1, 2)[3] - ((108.58381585100324 0_vm_1[3]²) + (((34.18935451933408 0_vm_1[3]*0_vm_2[1]) * cos(-0_va_2[1] + 0_va_1[3])) - ((68.55484515235698 0_vm_1[3]*0_vm_2[1]) * sin(-0_va_2[1] + 0_va_1[3]))) + ((-34.18935451933408 0_vm_1[3]*0_vm_1[1]) * cos(-0_va_1[1] + 0_va_1[3])) + ((68.55484016664944 0_vm_1[3]*0_vm_1[2]) * sin(-0_va_1[2] + 0_va_1[3])) + ((-34.18935451933405 0_vm_1[3]*0_vm_1[2]) * cos(-0_va_1[2] + 0_va_1[3])) + ((68.55484016664943 0_vm_1[3]*0_vm_1[1]) * sin(-0_va_1[1] + 0_va_1[3])) + (((-108.58381585100324 0_vm_1[3]*0_vm_2[3]) * cos(-0_va_2[3] + 0_va_1[3])) - ((-228.31488496251677 0_vm_1[3]*0_vm_2[3]) * sin(-0_va_2[3] + 0_va_1[3]))) + (((34.18935451933405 0_vm_1[3]*0_vm_2[2]) * cos(-0_va_2[2] + 0_va_1[3])) - ((68.55484515235699 0_vm_1[3]*0_vm_2[2]) * sin(-0_va_2[2] + 0_va_1[3])))) = 0], ConstraintRef[0_q_(1, 1, 2)[1] - (((228.3148616958815 0_vm_1[1]²) - ((((68.55484016664941 0_vm_1[1]*0_vm_1[2]) * cos(0_va_1[1] - 0_va_1[2])) - ((-34.189354519334024 0_vm_1[1]*0_vm_1[2]) * sin(0_va_1[1] - 0_va_1[2]))) + (((68.55484016664941 0_vm_1[1]*0_vm_1[3]) * cos(0_va_1[1] - 0_va_1[3])) - ((-34.18935451933407 0_vm_1[1]*0_vm_1[3]) * sin(0_va_1[1] - 0_va_1[3]))))) - (((228.3148849625167 0_vm_1[1]*0_vm_2[1]) * cos(-0_va_2[1] + 0_va_1[1])) + ((-34.18935451933407 0_vm_1[1]*0_vm_2[3]) * sin(-0_va_2[3] + 0_va_1[1])) + ((-68.55484515235696 0_vm_1[1]*0_vm_2[3]) * cos(-0_va_2[3] + 0_va_1[1])) + ((-34.189354519334024 0_vm_1[1]*0_vm_2[2]) * sin(-0_va_2[2] + 0_va_1[1])) + ((-68.55484515235696 0_vm_1[1]*0_vm_2[2]) * cos(-0_va_2[2] + 0_va_1[1])) + ((108.58381585100324 0_vm_1[1]*0_vm_2[1]) * sin(-0_va_2[1] + 0_va_1[1])))) = 0, 0_q_(1, 1, 2)[2] - (((228.31486169588158 0_vm_1[2]²) - ((((68.55484016664941 0_vm_1[2]*0_vm_1[1]) * cos(-0_va_1[1] + 0_va_1[2])) - ((-34.189354519334046 0_vm_1[2]*0_vm_1[1]) * sin(-0_va_1[1] + 0_va_1[2]))) + (((68.55484016664951 0_vm_1[2]*0_vm_1[3]) * cos(0_va_1[2] - 0_va_1[3])) - ((-34.189354519334074 0_vm_1[2]*0_vm_1[3]) * sin(0_va_1[2] - 0_va_1[3]))))) - (((-68.55484515235696 0_vm_1[2]*0_vm_2[1]) * cos(-0_va_2[1] + 0_va_1[2])) + ((-34.189354519334074 0_vm_1[2]*0_vm_2[3]) * sin(-0_va_2[3] + 0_va_1[2])) + ((-68.55484515235706 0_vm_1[2]*0_vm_2[3]) * cos(-0_va_2[3] + 0_va_1[2])) + ((108.58381585100317 0_vm_1[2]*0_vm_2[2]) * sin(-0_va_2[2] + 0_va_1[2])) + ((228.31488496251677 0_vm_1[2]*0_vm_2[2]) * cos(-0_va_2[2] + 0_va_1[2])) + ((-34.189354519334046 0_vm_1[2]*0_vm_2[1]) * sin(-0_va_2[1] + 0_va_1[2])))) = 0, 0_q_(1, 1, 2)[3] - (((228.31486169588158 0_vm_1[3]²) - ((((68.55484016664943 0_vm_1[3]*0_vm_1[1]) * cos(-0_va_1[1] + 0_va_1[3])) - ((-34.18935451933408 0_vm_1[3]*0_vm_1[1]) * sin(-0_va_1[1] + 0_va_1[3]))) + (((68.55484016664944 0_vm_1[3]*0_vm_1[2]) * cos(-0_va_1[2] + 0_va_1[3])) - ((-34.18935451933405 0_vm_1[3]*0_vm_1[2]) * sin(-0_va_1[2] + 0_va_1[3]))))) - (((-68.55484515235698 0_vm_1[3]*0_vm_2[1]) * cos(-0_va_2[1] + 0_va_1[3])) + ((108.58381585100324 0_vm_1[3]*0_vm_2[3]) * sin(-0_va_2[3] + 0_va_1[3])) + ((228.31488496251677 0_vm_1[3]*0_vm_2[3]) * cos(-0_va_2[3] + 0_va_1[3])) + ((-34.18935451933405 0_vm_1[3]*0_vm_2[2]) * sin(-0_va_2[2] + 0_va_1[3])) + ((-68.55484515235699 0_vm_1[3]*0_vm_2[2]) * cos(-0_va_2[2] + 0_va_1[3])) + ((-34.18935451933408 0_vm_1[3]*0_vm_2[1]) * sin(-0_va_2[1] + 0_va_1[3])))) = 0]])))))), Dict{Symbol, Any}(:dep => Dict{Symbol, Any}(), :it => Dict{Symbol, Any}(:pmd => Dict{Symbol, Any}(:nw => Dict{Int64, Any}(0 => Dict{Symbol, Any}(:branch => Dict{Any, Any}(2 => Dict{Any, Any}(:qt => 1-dimensional DenseAxisArray{VariableRef,1,...} with index sets:\n",
       "    Dimension 1, [1, 2, 3]\n",
       "And data, a 3-element Vector{VariableRef}:\n",
       " 0_q_(2, 2, 3)[1]\n",
       " 0_q_(2, 2, 3)[2]\n",
       " 0_q_(2, 2, 3)[3], :pt => 1-dimensional DenseAxisArray{VariableRef,1,...} with index sets:\n",
       "    Dimension 1, [1, 2, 3]\n",
       "And data, a 3-element Vector{VariableRef}:\n",
       " 0_p_(2, 2, 3)[1]\n",
       " 0_p_(2, 2, 3)[2]\n",
       " 0_p_(2, 2, 3)[3], :qf => 1-dimensional DenseAxisArray{VariableRef,1,...} with index sets:\n",
       "    Dimension 1, [1, 2, 3]\n",
       "And data, a 3-element Vector{VariableRef}:\n",
       " 0_q_(2, 3, 2)[1]\n",
       " 0_q_(2, 3, 2)[2]\n",
       " 0_q_(2, 3, 2)[3], :pf => 1-dimensional DenseAxisArray{VariableRef,1,...} with index sets:\n",
       "    Dimension 1, [1, 2, 3]\n",
       "And data, a 3-element Vector{VariableRef}:\n",
       " 0_p_(2, 3, 2)[1]\n",
       " 0_p_(2, 3, 2)[2]\n",
       " 0_p_(2, 3, 2)[3]), 1 => Dict{Any, Any}(:qt => 1-dimensional DenseAxisArray{VariableRef,1,...} with index sets:\n",
       "    Dimension 1, [1, 2, 3]\n",
       "And data, a 3-element Vector{VariableRef}:\n",
       " 0_q_(1, 1, 2)[1]\n",
       " 0_q_(1, 1, 2)[2]\n",
       " 0_q_(1, 1, 2)[3], :pt => 1-dimensional DenseAxisArray{VariableRef,1,...} with index sets:\n",
       "    Dimension 1, [1, 2, 3]\n",
       "And data, a 3-element Vector{VariableRef}:\n",
       " 0_p_(1, 1, 2)[1]\n",
       " 0_p_(1, 1, 2)[2]\n",
       " 0_p_(1, 1, 2)[3], :qf => 1-dimensional DenseAxisArray{VariableRef,1,...} with index sets:\n",
       "    Dimension 1, [1, 2, 3]\n",
       "And data, a 3-element Vector{VariableRef}:\n",
       " 0_q_(1, 2, 1)[1]\n",
       " 0_q_(1, 2, 1)[2]\n",
       " 0_q_(1, 2, 1)[3], :pf => 1-dimensional DenseAxisArray{VariableRef,1,...} with index sets:\n",
       "    Dimension 1, [1, 2, 3]\n",
       "And data, a 3-element Vector{VariableRef}:\n",
       " 0_p_(1, 2, 1)[1]\n",
       " 0_p_(1, 2, 1)[2]\n",
       " 0_p_(1, 2, 1)[3])), :gen => Dict{Any, Any}(1 => Dict{Any, Any}(:qg => 1-dimensional DenseAxisArray{VariableRef,1,...} with index sets:\n",
       "    Dimension 1, [1, 2, 3]\n",
       "And data, a 3-element Vector{VariableRef}:\n",
       " 0_qg_1[1]\n",
       " 0_qg_1[2]\n",
       " 0_qg_1[3], :qg_bus => 1-dimensional DenseAxisArray{VariableRef,1,...} with index sets:\n",
       "    Dimension 1, [1, 2, 3]\n",
       "And data, a 3-element Vector{VariableRef}:\n",
       " 0_qg_1[1]\n",
       " 0_qg_1[2]\n",
       " 0_qg_1[3], :pg => 1-dimensional DenseAxisArray{VariableRef,1,...} with index sets:\n",
       "    Dimension 1, [1, 2, 3]\n",
       "And data, a 3-element Vector{VariableRef}:\n",
       " 0_pg_1[1]\n",
       " 0_pg_1[2]\n",
       " 0_pg_1[3], :pg_bus => 1-dimensional DenseAxisArray{VariableRef,1,...} with index sets:\n",
       "    Dimension 1, [1, 2, 3]\n",
       "And data, a 3-element Vector{VariableRef}:\n",
       " 0_pg_1[1]\n",
       " 0_pg_1[2]\n",
       " 0_pg_1[3])), :bus => Dict{Any, Any}(2 => Dict{Any, Any}(:va => 1-dimensional DenseAxisArray{VariableRef,1,...} with index sets:\n",
       "    Dimension 1, [1, 2, 3]\n",
       "And data, a 3-element Vector{VariableRef}:\n",
       " 0_va_2[1]\n",
       " 0_va_2[2]\n",
       " 0_va_2[3], :vm => 1-dimensional DenseAxisArray{VariableRef,1,...} with index sets:\n",
       "    Dimension 1, [1, 2, 3]\n",
       "And data, a 3-element Vector{VariableRef}:\n",
       " 0_vm_2[1]\n",
       " 0_vm_2[2]\n",
       " 0_vm_2[3]), 3 => Dict{Any, Any}(:va => 1-dimensional DenseAxisArray{VariableRef,1,...} with index sets:\n",
       "    Dimension 1, [1, 2, 3]\n",
       "And data, a 3-element Vector{VariableRef}:\n",
       " 0_va_3[1]\n",
       " 0_va_3[2]\n",
       " 0_va_3[3], :vm => 1-dimensional DenseAxisArray{VariableRef,1,...} with index sets:\n",
       "    Dimension 1, [1, 2, 3]\n",
       "And data, a 3-element Vector{VariableRef}:\n",
       " 0_vm_3[1]\n",
       " 0_vm_3[2]\n",
       " 0_vm_3[3]), 1 => Dict{Any, Any}(:va => 1-dimensional DenseAxisArray{VariableRef,1,...} with index sets:\n",
       "    Dimension 1, [1, 2, 3]\n",
       "And data, a 3-element Vector{VariableRef}:\n",
       " 0_va_1[1]\n",
       " 0_va_1[2]\n",
       " 0_va_1[3], :vm => 1-dimensional DenseAxisArray{VariableRef,1,...} with index sets:\n",
       "    Dimension 1, [1, 2, 3]\n",
       "And data, a 3-element Vector{VariableRef}:\n",
       " 0_vm_1[1]\n",
       " 0_vm_1[2]\n",
       " 0_vm_1[3])), :load => Dict{Any, Any}(1 => Dict{Any, Any}(:qd_bus => 1-dimensional DenseAxisArray{Float64,1,...} with index sets:\n",
       "    Dimension 1, [1, 2, 3]\n",
       "And data, a 3-element Vector{Float64}:\n",
       " 1.0000000000000001e-7\n",
       " 1.0000000000000001e-7\n",
       " 1.0000000000000001e-7, :qd => 1-dimensional DenseAxisArray{NonlinearExpr,1,...} with index sets:\n",
       "    Dimension 1, [1, 2, 3]\n",
       "And data, a 3-element Vector{NonlinearExpr}:\n",
       " 1.0000000000000001e-7 * (0_vm_1[1] ^ 0.0)\n",
       " 1.0000000000000001e-7 * (0_vm_1[2] ^ 0.0)\n",
       " 1.0000000000000001e-7 * (0_vm_1[3] ^ 0.0), :pd => 1-dimensional DenseAxisArray{NonlinearExpr,1,...} with index sets:\n",
       "    Dimension 1, [1, 2, 3]\n",
       "And data, a 3-element Vector{NonlinearExpr}:\n",
       " 3.3333333333333335e-7 * (0_vm_1[1] ^ 0.0)\n",
       " 3.3333333333333335e-7 * (0_vm_1[2] ^ 0.0)\n",
       " 3.3333333333333335e-7 * (0_vm_1[3] ^ 0.0), :pd_bus => 1-dimensional DenseAxisArray{Float64,1,...} with index sets:\n",
       "    Dimension 1, [1, 2, 3]\n",
       "And data, a 3-element Vector{Float64}:\n",
       " 3.3333333333333335e-7\n",
       " 3.3333333333333335e-7\n",
       " 3.3333333333333335e-7)), :prosumer => Dict{Any, Any}(1 => Dict{Any, Any}(:qs => 1-dimensional DenseAxisArray{VariableRef,1,...} with index sets:\n",
       "    Dimension 1, [1, 2, 3, 4]\n",
       "And data, a 4-element Vector{VariableRef}:\n",
       " 0_qs_1[1]\n",
       " 0_qs_1[2]\n",
       " 0_qs_1[3]\n",
       " 0_qs_1[4], :ps => 1-dimensional DenseAxisArray{VariableRef,1,...} with index sets:\n",
       "    Dimension 1, [1, 2, 3, 4]\n",
       "And data, a 4-element Vector{VariableRef}:\n",
       " 0_ps_1[1]\n",
       " 0_ps_1[2]\n",
       " 0_ps_1[3]\n",
       " 0_ps_1[4]))))))), Dict{Symbol, Any}(:dep => Dict{Symbol, Any}(), :it => Dict{Symbol, Any}(:pmd => Dict{Symbol, Any}(:nw => Dict{Int64, Any}(0 => Dict{Symbol, Any}())))), Dict{Symbol, Any}())"
      ]
     },
     "execution_count": 6,
     "metadata": {},
     "output_type": "execute_result"
    }
   ],
   "source": [
    "teste = instantiate_mc_model(\n",
    "    eng_model,\n",
    "    ACPUPowerModel,\n",
    "    build_mc_tes_opf)"
   ]
  },
  {
   "cell_type": "code",
   "execution_count": 7,
   "id": "5f6e864b",
   "metadata": {
    "scrolled": true
   },
   "outputs": [
    {
     "data": {
      "text/plain": [
       "Dict{Int64, Any} with 1 entry:\n",
       "  1 => Dict{String, Any}(\"cdis\"=>0, \"energy_rating\"=>1.0, \"pg\"=>[0.025, 0.025, …"
      ]
     },
     "execution_count": 7,
     "metadata": {},
     "output_type": "execute_result"
    }
   ],
   "source": [
    "nws(teste)[0][:prosumer]"
   ]
  },
  {
   "cell_type": "code",
   "execution_count": 8,
   "id": "be9e5a45",
   "metadata": {},
   "outputs": [
    {
     "name": "stderr",
     "output_type": "stream",
     "text": [
      "\u001b[36m\u001b[1m[ \u001b[22m\u001b[39m\u001b[36m\u001b[1mPowerModelsDistribution | Info ] : \u001b[22m\u001b[39mno active generators found at bus 1, updating to bus type from 2 to 1\n"
     ]
    },
    {
     "data": {
      "text/plain": [
       "Dict{String, Any} with 1 entry:\n",
       "  \"1\" => Dict{String, Any}(\"cdis\"=>0, \"energy_rating\"=>1.0, \"pg\"=>[0.025, 0.025…"
      ]
     },
     "execution_count": 8,
     "metadata": {},
     "output_type": "execute_result"
    }
   ],
   "source": [
    "teste_2 = transform_data_model(eng_model)[\"prosumer\"]"
   ]
  },
  {
   "cell_type": "code",
   "execution_count": 9,
   "id": "f4f9b73c",
   "metadata": {},
   "outputs": [
    {
     "ename": "LoadError",
     "evalue": "MethodError: no method matching get(::Int64, ::Symbol, ::Dict{String, Any})\n\n\u001b[0mClosest candidates are:\n\u001b[0m  get(\u001b[91m::REPL.Terminals.TTYTerminal\u001b[39m, ::Any, ::Any)\n\u001b[0m\u001b[90m   @\u001b[39m \u001b[35mREPL\u001b[39m \u001b[90m/opt/julia-1.10.0/share/julia/stdlib/v1.10/REPL/src/\u001b[39m\u001b[90m\u001b[4mTerminals.jl:161\u001b[24m\u001b[39m\n\u001b[0m  get(\u001b[91m::Plots.Axis\u001b[39m, ::Symbol, ::Any)\n\u001b[0m\u001b[90m   @\u001b[39m \u001b[36mPlots\u001b[39m \u001b[90m~/.julia/packages/Plots/FFuQi/src/\u001b[39m\u001b[90m\u001b[4margs.jl:1784\u001b[24m\u001b[39m\n\u001b[0m  get(\u001b[91m::Pkg.Types.Manifest\u001b[39m, ::Any, ::Any)\n\u001b[0m\u001b[90m   @\u001b[39m \u001b[32mPkg\u001b[39m \u001b[90m/opt/julia-1.10.0/share/julia/stdlib/v1.10/Pkg/src/\u001b[39m\u001b[90m\u001b[4mTypes.jl:311\u001b[24m\u001b[39m\n\u001b[0m  ...\n",
     "output_type": "error",
     "traceback": [
      "MethodError: no method matching get(::Int64, ::Symbol, ::Dict{String, Any})\n\n\u001b[0mClosest candidates are:\n\u001b[0m  get(\u001b[91m::REPL.Terminals.TTYTerminal\u001b[39m, ::Any, ::Any)\n\u001b[0m\u001b[90m   @\u001b[39m \u001b[35mREPL\u001b[39m \u001b[90m/opt/julia-1.10.0/share/julia/stdlib/v1.10/REPL/src/\u001b[39m\u001b[90m\u001b[4mTerminals.jl:161\u001b[24m\u001b[39m\n\u001b[0m  get(\u001b[91m::Plots.Axis\u001b[39m, ::Symbol, ::Any)\n\u001b[0m\u001b[90m   @\u001b[39m \u001b[36mPlots\u001b[39m \u001b[90m~/.julia/packages/Plots/FFuQi/src/\u001b[39m\u001b[90m\u001b[4margs.jl:1784\u001b[24m\u001b[39m\n\u001b[0m  get(\u001b[91m::Pkg.Types.Manifest\u001b[39m, ::Any, ::Any)\n\u001b[0m\u001b[90m   @\u001b[39m \u001b[32mPkg\u001b[39m \u001b[90m/opt/julia-1.10.0/share/julia/stdlib/v1.10/Pkg/src/\u001b[39m\u001b[90m\u001b[4mTypes.jl:311\u001b[24m\u001b[39m\n\u001b[0m  ...\n",
      "",
      "Stacktrace:",
      " [1] top-level scope",
      "   @ In[9]:1"
     ]
    }
   ],
   "source": [
    "get(0, :prosumer, teste_2)"
   ]
  },
  {
   "cell_type": "code",
   "execution_count": null,
   "id": "adb10eb7",
   "metadata": {},
   "outputs": [],
   "source": []
  }
 ],
 "metadata": {
  "kernelspec": {
   "display_name": "Julia 1.10.0",
   "language": "julia",
   "name": "julia-1.10"
  },
  "language_info": {
   "file_extension": ".jl",
   "mimetype": "application/julia",
   "name": "julia",
   "version": "1.10.0"
  }
 },
 "nbformat": 4,
 "nbformat_minor": 5
}
