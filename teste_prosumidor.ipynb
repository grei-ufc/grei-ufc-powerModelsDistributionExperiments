{
 "cells": [
  {
   "cell_type": "code",
   "execution_count": 1,
   "id": "7c99a96f",
   "metadata": {
    "scrolled": false
   },
   "outputs": [
    {
     "name": "stderr",
     "output_type": "stream",
     "text": [
      "\u001b[32m\u001b[1m  Activating\u001b[22m\u001b[39m project at `~/Documents/mestrado/powerModelsExemplos`\n",
      "\u001b[32m\u001b[1m   Resolving\u001b[22m\u001b[39m package versions...\n",
      "\u001b[32m\u001b[1m  No Changes\u001b[22m\u001b[39m to `~/Documents/mestrado/powerModelsExemplos/Project.toml`\n",
      "\u001b[32m\u001b[1m  No Changes\u001b[22m\u001b[39m to `~/Documents/mestrado/powerModelsExemplos/Manifest.toml`\n"
     ]
    }
   ],
   "source": [
    "using Pkg\n",
    "Pkg.activate(\".\")\n",
    "caminho_do_pacote = \"/home/luizfreire/Documents/mestrado/powerModelsExemplos/PowerModelsDistributionDev\"\n",
    "Pkg.develop(PackageSpec(path=caminho_do_pacote))"
   ]
  },
  {
   "cell_type": "code",
   "execution_count": 2,
   "id": "fd8c6e15",
   "metadata": {
    "scrolled": false
   },
   "outputs": [
    {
     "name": "stderr",
     "output_type": "stream",
     "text": [
      "\u001b[32m\u001b[1mPrecompiling\u001b[22m\u001b[39m PowerModelsDistribution\n",
      "\u001b[32m  ✓ \u001b[39mPowerModelsDistribution\n",
      "  1 dependency successfully precompiled in 12 seconds. 71 already precompiled.\n"
     ]
    },
    {
     "data": {
      "text/plain": [
       "MathOptInterface.OptimizerWithAttributes(Ipopt.Optimizer, Pair{MathOptInterface.AbstractOptimizerAttribute, Any}[MathOptInterface.RawOptimizerAttribute(\"max_iter\") => 50000, MathOptInterface.RawOptimizerAttribute(\"tol\") => 1.0e-8])"
      ]
     },
     "execution_count": 2,
     "metadata": {},
     "output_type": "execute_result"
    }
   ],
   "source": [
    "using PowerModelsDistribution\n",
    "using Ipopt\n",
    "using JuMP\n",
    "using PowerPlots\n",
    "using Plots\n",
    "\n",
    "include(\"utils/load_data.jl\")\n",
    "results_path = \"results/2025-04-21_solar_carga_armazenamento_opf_cost/\"\n",
    "\n",
    "solver = optimizer_with_attributes(\n",
    "    Ipopt.Optimizer,\n",
    "    \"max_iter\" => 50000,\n",
    "    \"tol\" => 1e-8)\n"
   ]
  },
  {
   "cell_type": "code",
   "execution_count": 3,
   "id": "d9f2ea37",
   "metadata": {
    "scrolled": true
   },
   "outputs": [
    {
     "data": {
      "text/plain": [
       "Dict{String, Float64} with 1 entry:\n",
       "  \"bus_1\" => 2.4"
      ]
     },
     "execution_count": 3,
     "metadata": {},
     "output_type": "execute_result"
    }
   ],
   "source": [
    "eng_model = PowerModelsDistribution.Model()\n",
    "\n",
    "add_voltage_source!(\n",
    "    eng_model,\n",
    "    \"voltage_source_1\",\n",
    "    \"bus_1\",\n",
    "    [1, 2, 3, 4],\n",
    "    configuration=WYE,\n",
    "    vm=[2.4, 2.4, 2.4, 0.0],\n",
    "    va=[0.0, -120.0, 120.0, 0.0],\n",
    "    rs=zeros(4),\n",
    "    xs=zeros(4),\n",
    "    status=ENABLED\n",
    ")\n",
    "\n",
    "add_line!(eng_model,\n",
    "          \"line_1\",\n",
    "          \"bus_1\",\n",
    "          \"bus_2\",\n",
    "          [1, 2, 3],\n",
    "          [1, 2, 3],\n",
    "          rs=zeros(3, 3),\n",
    "          xs=zeros(3, 3))\n",
    "\n",
    "add_prosumer!(eng_model,\n",
    "              \"prosumer_1\",\n",
    "              \"bus_2\",\n",
    "              [1, 2, 3, 4];\n",
    "              configuration=WYE,\n",
    "              pg=[2500, 2500, 2500, 0],\n",
    "              pd=[1800, 1800, 1800, 0],\n",
    "              ps=[1000, 1000, 1000, 0],\n",
    "              energy=20000,\n",
    "              energy_ub=100000,\n",
    "              charge_ub=7000,\n",
    "              discharge_ub=7000,\n",
    "              charge_efficiency=1.0,\n",
    "              discharge_efficiency=1.0,\n",
    "              cost=1)\n",
    "\n",
    "# reference = PowerModelsDistribution.parse_file(\"4Bus-DY-Bal/4Bus-DY-Bal.DSS\")\n",
    "#delete!(eng_model[\"settings\"][\"base_bus\"])\n",
    "eng_model[\"settings\"][\"vbases_default\"] = Dict(\"bus_1\" => 2.4)"
   ]
  },
  {
   "cell_type": "code",
   "execution_count": 4,
   "id": "6f750d5d",
   "metadata": {},
   "outputs": [
    {
     "data": {
      "text/plain": [
       "Dict{String, Any} with 16 entries:\n",
       "  \"pg\"                   => [2500, 2500, 2500, 0]\n",
       "  \"connections\"          => [1, 2, 3, 4]\n",
       "  \"energy\"               => 20000\n",
       "  \"bus\"                  => \"bus_2\"\n",
       "  \"charge_ub\"            => 7000\n",
       "  \"configuration\"        => WYE\n",
       "  \"energy_ub\"            => 100000\n",
       "  \"status\"               => ENABLED\n",
       "  \"source_id\"            => \"prosumer.prosumer_1\"\n",
       "  \"charge_efficiency\"    => 1.0\n",
       "  \"discharge_ub\"         => 7000\n",
       "  \"ps\"                   => [1000, 1000, 1000, 0]\n",
       "  \"cost\"                 => 1\n",
       "  \"control_mode\"         => FREQUENCYDROOP\n",
       "  \"discharge_efficiency\" => 1.0\n",
       "  \"pd\"                   => [1800, 1800, 1800, 0]"
      ]
     },
     "execution_count": 4,
     "metadata": {},
     "output_type": "execute_result"
    }
   ],
   "source": [
    "eng_model[\"prosumer\"][\"prosumer_1\"]"
   ]
  },
  {
   "cell_type": "code",
   "execution_count": 5,
   "id": "ac754ee2",
   "metadata": {
    "scrolled": false
   },
   "outputs": [
    {
     "name": "stderr",
     "output_type": "stream",
     "text": [
      "\u001b[36m\u001b[1m[ \u001b[22m\u001b[39m\u001b[36m\u001b[1mPowerModelsDistribution | Info ] : \u001b[22m\u001b[39mno active generators found at bus 2, updating to bus type from 2 to 1\n"
     ]
    },
    {
     "data": {
      "text/plain": [
       "Dict{String, Any} with 30 entries:\n",
       "  \"energy_rating\"     => 100000\n",
       "  \"pg\"                => [2500, 2500, 2500, 0]\n",
       "  \"connections\"       => [1, 2, 3, 4]\n",
       "  \"b\"                 => 0.0\n",
       "  \"energy\"            => 20000\n",
       "  \"a\"                 => 0.0\n",
       "  \"configuration\"     => WYE\n",
       "  \"qs\"                => [0.0, 0.0, 0.0]\n",
       "  \"name\"              => \"prosumer_1\"\n",
       "  \"prosumer_bus\"      => 2\n",
       "  \"qg\"                => [0.0, 0.0, 0.0]\n",
       "  \"thermal_rating\"    => Inf\n",
       "  \"pmax\"              => [Inf, Inf, Inf]\n",
       "  \"qd\"                => [0.0, 0.0, 0.0]\n",
       "  \"source_id\"         => \"prosumer.prosumer_1\"\n",
       "  \"discharge_rating\"  => 7000\n",
       "  \"alpha\"             => 1.0\n",
       "  \"charge_efficiency\" => 0.01\n",
       "  \"index\"             => 1\n",
       "  \"ps\"                => [1000, 1000, 1000, 0]\n",
       "  \"beta\"              => 1.0\n",
       "  \"cost\"              => 1\n",
       "  \"qmax\"              => [Inf, Inf, Inf]\n",
       "  \"prosumer_status\"   => 1\n",
       "  \"qmin\"              => [-Inf, -Inf, -Inf]\n",
       "  ⋮                   => ⋮"
      ]
     },
     "execution_count": 5,
     "metadata": {},
     "output_type": "execute_result"
    }
   ],
   "source": [
    "transform_data_model(eng_model)[\"prosumer\"][\"1\"]"
   ]
  },
  {
   "cell_type": "code",
   "execution_count": 6,
   "id": "51bc8598",
   "metadata": {
    "scrolled": true
   },
   "outputs": [
    {
     "name": "stderr",
     "output_type": "stream",
     "text": [
      "\u001b[36m\u001b[1m[ \u001b[22m\u001b[39m\u001b[36m\u001b[1mPowerModelsDistribution | Info ] : \u001b[22m\u001b[39mno active generators found at bus 2, updating to bus type from 2 to 1\n"
     ]
    },
    {
     "name": "stdout",
     "output_type": "stream",
     "text": [
      "\n",
      "******************************************************************************\n",
      "This program contains Ipopt, a library for large-scale nonlinear optimization.\n",
      " Ipopt is released as open source code under the Eclipse Public License (EPL).\n",
      "         For more information visit https://github.com/coin-or/Ipopt\n",
      "******************************************************************************\n",
      "\n",
      "This is Ipopt version 3.14.17, running with linear solver MUMPS 5.7.3.\n",
      "\n",
      "Number of nonzeros in equality constraint Jacobian...:       21\n",
      "Number of nonzeros in inequality constraint Jacobian.:        0\n",
      "Number of nonzeros in Lagrangian Hessian.............:        0\n",
      "\n",
      "Total number of variables............................:       31\n",
      "                     variables with only lower bounds:        3\n",
      "                variables with lower and upper bounds:        4\n",
      "                     variables with only upper bounds:        0\n",
      "Total number of equality constraints.................:       15\n",
      "Total number of inequality constraints...............:        0\n",
      "        inequality constraints with only lower bounds:        0\n",
      "   inequality constraints with lower and upper bounds:        0\n",
      "        inequality constraints with only upper bounds:        0\n",
      "\n",
      "iter    objective    inf_pr   inf_du lg(mu)  ||d||  lg(rg) alpha_du alpha_pr  ls\n",
      "   0  3.0000000e+03 0.00e+00 1.00e+00  -1.0 0.00e+00    -  0.00e+00 0.00e+00   0\n",
      "   1 -7.2521991e+03 0.00e+00 4.86e-01  -1.0 2.59e+03  -4.0 6.94e-01 1.00e+00f  1\n",
      "   2 -2.7692610e+04 0.00e+00 3.63e-01  -1.0 7.62e+03  -4.5 5.24e-01 7.08e-01f  1\n",
      "   3 -2.7989741e+04 0.00e+00 1.04e-02  -1.0 2.14e+02  -5.0 9.76e-01 6.33e-01f  1\n",
      "   4 -2.7999615e+04 0.00e+00 1.06e-04  -1.0 2.84e+01  -5.4 1.00e+00 9.91e-01f  1\n",
      "   5 -2.7999989e+04 0.00e+00 2.44e-05  -2.5 1.97e+01  -5.9 1.00e+00 1.00e+00f  1\n",
      "   6 -2.8000000e+04 0.00e+00 1.38e-06  -3.8 3.35e+00  -6.4 1.00e+00 1.00e+00f  1\n",
      "   7 -2.8000000e+04 0.00e+00 2.92e-08  -5.7 2.13e-01  -6.9 1.00e+00 1.00e+00f  1\n",
      "   8 -2.8000000e+04 0.00e+00 4.65e-11  -8.6 1.02e-03  -7.3 1.00e+00 1.00e+00f  1\n",
      "\n",
      "Number of Iterations....: 8\n",
      "\n",
      "                                   (scaled)                 (unscaled)\n",
      "Objective...............:  -2.8000000279989978e+04   -2.8000000279989978e+04\n",
      "Dual infeasibility......:   4.6500094503928934e-11    4.6500094503928934e-11\n",
      "Constraint violation....:   0.0000000000000000e+00    0.0000000000000000e+00\n",
      "Variable bound violation:   6.9997494392737281e-05    6.9997494392737281e-05\n",
      "Complementarity.........:   2.5059033172179427e-09    2.5059033172179427e-09\n",
      "Overall NLP error.......:   2.5059033172179427e-09    2.5059033172179427e-09\n",
      "\n",
      "\n",
      "Number of objective function evaluations             = 9\n",
      "Number of objective gradient evaluations             = 9\n",
      "Number of equality constraint evaluations            = 9\n",
      "Number of inequality constraint evaluations          = 0\n",
      "Number of equality constraint Jacobian evaluations   = 9\n",
      "Number of inequality constraint Jacobian evaluations = 0\n",
      "Number of Lagrangian Hessian evaluations             = 8\n",
      "Total seconds in IPOPT                               = 0.006\n",
      "\n",
      "EXIT: Optimal Solution Found.\n"
     ]
    },
    {
     "data": {
      "text/plain": [
       "Dict{String, Any} with 8 entries:\n",
       "  \"solve_time\"         => 0.00664401\n",
       "  \"optimizer\"          => \"Ipopt\"\n",
       "  \"termination_status\" => LOCALLY_SOLVED\n",
       "  \"dual_status\"        => FEASIBLE_POINT\n",
       "  \"primal_status\"      => FEASIBLE_POINT\n",
       "  \"objective\"          => -28000.0\n",
       "  \"solution\"           => Dict{String, Any}(\"voltage_source\"=>Dict{String, Any}…\n",
       "  \"objective_lb\"       => -Inf"
      ]
     },
     "execution_count": 6,
     "metadata": {},
     "output_type": "execute_result"
    }
   ],
   "source": [
    "result = solve_mc_model(eng_model, ACPUPowerModel, solver, build_mc_tes_opf)"
   ]
  },
  {
   "cell_type": "code",
   "execution_count": 7,
   "id": "1372781a",
   "metadata": {},
   "outputs": [
    {
     "data": {
      "text/plain": [
       "Dict{String, Any} with 1 entry:\n",
       "  \"prosumer_1\" => Dict{String, Any}(\"ps\"=>[-7000.0, -7000.0, -7000.0, -7000.0])"
      ]
     },
     "execution_count": 7,
     "metadata": {},
     "output_type": "execute_result"
    }
   ],
   "source": [
    "result[\"solution\"][\"prosumer\"]"
   ]
  },
  {
   "cell_type": "code",
   "execution_count": null,
   "id": "9e469b88",
   "metadata": {},
   "outputs": [],
   "source": []
  }
 ],
 "metadata": {
  "kernelspec": {
   "display_name": "Julia 1.10.0",
   "language": "julia",
   "name": "julia-1.10"
  },
  "language_info": {
   "file_extension": ".jl",
   "mimetype": "application/julia",
   "name": "julia",
   "version": "1.10.0"
  }
 },
 "nbformat": 4,
 "nbformat_minor": 5
}
